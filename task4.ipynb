{
 "cells": [
  {
   "cell_type": "code",
   "execution_count": 1,
   "id": "b87764e0",
   "metadata": {},
   "outputs": [],
   "source": [
    "import config\n",
    "\n",
    "from pyspark.sql import SparkSession\n",
    "import pyspark.sql.functions as ps\n",
    "from pyspark.sql import Window"
   ]
  },
  {
   "cell_type": "code",
   "execution_count": 2,
   "id": "ec5cb21d",
   "metadata": {},
   "outputs": [
    {
     "name": "stderr",
     "output_type": "stream",
     "text": [
      "Setting default log level to \"WARN\".\n",
      "To adjust logging level use sc.setLogLevel(newLevel). For SparkR, use setLogLevel(newLevel).\n"
     ]
    },
    {
     "name": "stdout",
     "output_type": "stream",
     "text": [
      "22/08/25 15:46:01 WARN NativeCodeLoader: Unable to load native-hadoop library for your platform... using builtin-java classes where applicable\n"
     ]
    }
   ],
   "source": [
    "spark = SparkSession.builder\\\n",
    "    .config('spark.driver.extraClassPath', '/home/vermichel/Downloads/postgresql-42.4.0.jar')\\\n",
    "    .getOrCreate()\n",
    "\n",
    "spark_config = spark.read.format(\"jdbc\")\\\n",
    "    .option(\"url\", \"jdbc:postgresql://localhost:5432/pagila\") \\\n",
    "    .option(\"driver\", \"org.postgresql.Driver\")\\\n",
    "    .option(\"user\", \"postgres\")\\\n",
    "    .option(\"password\", \"password\")"
   ]
  },
  {
   "cell_type": "code",
   "execution_count": 3,
   "id": "ca43a74e",
   "metadata": {},
   "outputs": [],
   "source": [
    "category = spark_config.option(\"dbtable\", \"category\").load()\n",
    "film_category = spark_config.option(\"dbtable\", \"film_category\").load()\n",
    "film_actor = spark_config.option(\"dbtable\", \"film_actor\").load()\n",
    "actor = spark_config.option(\"dbtable\", \"actor\").load()\n",
    "film = spark_config.option(\"dbtable\", \"film\").load()\n",
    "rental = spark_config.option(\"dbtable\", \"rental\").load()\n",
    "inventory = spark_config.option(\"dbtable\", \"inventory\").load()\n",
    "payment = spark_config.option(\"dbtable\", \"payment\").load()\n",
    "address = spark_config.option(\"dbtable\", \"address\").load()\n",
    "city = spark_config.option(\"dbtable\", \"city\").load()\n",
    "customer = spark_config.option(\"dbtable\", \"customer\").load()"
   ]
  },
  {
   "cell_type": "code",
   "execution_count": 4,
   "id": "e46f30cf",
   "metadata": {},
   "outputs": [
    {
     "name": "stderr",
     "output_type": "stream",
     "text": [
      "\r",
      "[Stage 0:>                                                          (0 + 1) / 1]\r"
     ]
    },
    {
     "name": "stdout",
     "output_type": "stream",
     "text": [
      "+-----------+-----------+\n",
      "|       name|films_count|\n",
      "+-----------+-----------+\n",
      "|     Action|         64|\n",
      "|  Animation|         66|\n",
      "|   Children|         60|\n",
      "|   Classics|         57|\n",
      "|     Comedy|         58|\n",
      "|Documentary|         68|\n",
      "|      Drama|         62|\n",
      "|     Family|         69|\n",
      "|    Foreign|         73|\n",
      "|      Games|         61|\n",
      "|     Horror|         56|\n",
      "|      Music|         51|\n",
      "|        New|         63|\n",
      "|     Sci-Fi|         61|\n",
      "|     Sports|         74|\n",
      "|     Travel|         57|\n",
      "+-----------+-----------+\n",
      "\n"
     ]
    },
    {
     "name": "stderr",
     "output_type": "stream",
     "text": [
      "\r",
      "                                                                                \r"
     ]
    }
   ],
   "source": [
    "# 1\n",
    "result1 = category.join(film_category, category.category_id == film_category.category_id, \"inner\")\n",
    "result1.groupBy(\"name\")\\\n",
    "    .agg(ps.count(\"film_id\").alias(\"films_count\"))\\\n",
    "    .orderBy(\"name\")\\\n",
    "    .show()"
   ]
  },
  {
   "cell_type": "code",
   "execution_count": 5,
   "id": "48c83e8d",
   "metadata": {},
   "outputs": [
    {
     "name": "stdout",
     "output_type": "stream",
     "text": [
      "+----------+-----------+-------+\n",
      "|first_name|  last_name|rentals|\n",
      "+----------+-----------+-------+\n",
      "|     SUSAN|      DAVIS|     54|\n",
      "|      GINA|  DEGENERES|     42|\n",
      "|    WALTER|       TORN|     41|\n",
      "|      MARY|     KEITEL|     40|\n",
      "|   MATTHEW|     CARREY|     39|\n",
      "|    SANDRA|     KILMER|     37|\n",
      "|  SCARLETT|      DAMON|     36|\n",
      "|       UMA|       WOOD|     35|\n",
      "|   GROUCHO|      DUNST|     35|\n",
      "|    ANGELA|WITHERSPOON|     35|\n",
      "+----------+-----------+-------+\n",
      "only showing top 10 rows\n",
      "\n"
     ]
    }
   ],
   "source": [
    "# 2\n",
    "result2 = film_actor.join(film, film_actor.film_id == film.film_id, \"inner\")\\\n",
    "    .join(actor, film_actor.actor_id == actor.actor_id, \"inner\")\n",
    "result2.groupBy(\"first_name\", \"last_name\")\\\n",
    "    .agg(ps.count(\"rental_duration\").alias(\"rentals\"))\\\n",
    "    .orderBy(\"rentals\", ascending=False)\\\n",
    "    .show(10)"
   ]
  },
  {
   "cell_type": "code",
   "execution_count": 6,
   "id": "c4ab78f5",
   "metadata": {},
   "outputs": [
    {
     "name": "stdout",
     "output_type": "stream",
     "text": [
      "+------+-----------+\n",
      "|  name|payed_money|\n",
      "+------+-----------+\n",
      "|Sports|    5314.21|\n",
      "+------+-----------+\n",
      "only showing top 1 row\n",
      "\n"
     ]
    }
   ],
   "source": [
    "# 3 \n",
    "result3 = payment.join(rental, payment.rental_id == rental.rental_id, \"inner\")\\\n",
    "    .join(inventory, rental.inventory_id == inventory.inventory_id, \"inner\")\\\n",
    "    .join(film_category, inventory.film_id == film_category.film_id, \"inner\")\\\n",
    "    .join(category, film_category.category_id == category.category_id)\n",
    "result3.groupBy(\"name\").agg(ps.sum(\"amount\").alias(\"payed_money\"))\\\n",
    "    .orderBy(\"payed_money\", ascending=False).show(1)"
   ]
  },
  {
   "cell_type": "code",
   "execution_count": 16,
   "id": "c0d94198",
   "metadata": {},
   "outputs": [
    {
     "name": "stdout",
     "output_type": "stream",
     "text": [
      "+--------------------+\n",
      "|               title|\n",
      "+--------------------+\n",
      "|      CHOCOLATE DUCK|\n",
      "|       BUTCH PANTHER|\n",
      "|        VOLUME HOUSE|\n",
      "|      ORDER BETRAYED|\n",
      "|        TADPOLE PARK|\n",
      "|    KILL BROTHERHOOD|\n",
      "|FRANKENSTEIN STRA...|\n",
      "|    CROSSING DIVORCE|\n",
      "|    SUICIDES SILENCE|\n",
      "|       CATCH AMISTAD|\n",
      "|     PERDITION FARGO|\n",
      "|       FLOATS GARDEN|\n",
      "|           GUMP DATE|\n",
      "|        WALLS ARTIST|\n",
      "|  GLADIATOR WESTWARD|\n",
      "|         HOCUS FRIDA|\n",
      "|ARSENIC INDEPENDENCE|\n",
      "|         MUPPET MILE|\n",
      "|   FIREHOUSE VIETNAM|\n",
      "|       ROOF CHAMPION|\n",
      "+--------------------+\n",
      "only showing top 20 rows\n",
      "\n"
     ]
    }
   ],
   "source": [
    "# 4\n",
    "result4 = film.join(inventory, film.film_id == inventory.film_id, \"left\")\\\n",
    "    .where(inventory.film_id.isNull())\n",
    "result4.select(\"title\").show()"
   ]
  },
  {
   "cell_type": "code",
   "execution_count": 18,
   "id": "9a0094ed",
   "metadata": {},
   "outputs": [
    {
     "name": "stdout",
     "output_type": "stream",
     "text": [
      "+-------------------+\n",
      "|              title|\n",
      "+-------------------+\n",
      "|   INSTINCT AIRPORT|\n",
      "|    ISLAND EXORCIST|\n",
      "|      KICK SAVANNAH|\n",
      "|    SPLENDOR PATTON|\n",
      "|    DOORS PRESIDENT|\n",
      "|       HALL CASSIDY|\n",
      "|       LUCKY FLYING|\n",
      "|   NEWTON LABYRINTH|\n",
      "|      ROCK INSTINCT|\n",
      "|      SUBMARINE BED|\n",
      "|       TORQUE BOUND|\n",
      "|      APACHE DIVINE|\n",
      "|        LEGEND JEDI|\n",
      "|   BONNIE HOLOCAUST|\n",
      "|     CHARADE DUFFEL|\n",
      "|DRAGONFLY STRANGERS|\n",
      "|         IGBY MAKER|\n",
      "|        MINE TITANS|\n",
      "|         SLING LUKE|\n",
      "|   BEHAVIOR RUNAWAY|\n",
      "+-------------------+\n",
      "only showing top 20 rows\n",
      "\n"
     ]
    }
   ],
   "source": [
    "# 4\n",
    "result4 = film.join(inventory, film.film_id == inventory.film_id, \"left_semi\")\n",
    "result4.select(\"title\").show()"
   ]
  },
  {
   "cell_type": "code",
   "execution_count": 92,
   "id": "cbfbb671",
   "metadata": {
    "scrolled": true
   },
   "outputs": [
    {
     "name": "stdout",
     "output_type": "stream",
     "text": [
      "22/08/25 17:08:09 WARN WindowExec: No Partition Defined for Window operation! Moving all data to a single partition, this can cause serious performance degradation.\n",
      "22/08/25 17:08:09 WARN WindowExec: No Partition Defined for Window operation! Moving all data to a single partition, this can cause serious performance degradation.\n",
      "22/08/25 17:08:09 WARN WindowExec: No Partition Defined for Window operation! Moving all data to a single partition, this can cause serious performance degradation.\n",
      "22/08/25 17:08:09 WARN WindowExec: No Partition Defined for Window operation! Moving all data to a single partition, this can cause serious performance degradation.\n",
      "22/08/25 17:08:09 WARN WindowExec: No Partition Defined for Window operation! Moving all data to a single partition, this can cause serious performance degradation.\n",
      "22/08/25 17:08:09 WARN WindowExec: No Partition Defined for Window operation! Moving all data to a single partition, this can cause serious performance degradation.\n",
      "22/08/25 17:08:09 WARN WindowExec: No Partition Defined for Window operation! Moving all data to a single partition, this can cause serious performance degradation.\n",
      "22/08/25 17:08:09 WARN WindowExec: No Partition Defined for Window operation! Moving all data to a single partition, this can cause serious performance degradation.\n",
      "22/08/25 17:08:09 WARN WindowExec: No Partition Defined for Window operation! Moving all data to a single partition, this can cause serious performance degradation.\n",
      "22/08/25 17:08:09 WARN WindowExec: No Partition Defined for Window operation! Moving all data to a single partition, this can cause serious performance degradation.\n",
      "22/08/25 17:08:09 WARN WindowExec: No Partition Defined for Window operation! Moving all data to a single partition, this can cause serious performance degradation.\n",
      "22/08/25 17:08:09 WARN WindowExec: No Partition Defined for Window operation! Moving all data to a single partition, this can cause serious performance degradation.\n",
      "22/08/25 17:08:09 WARN WindowExec: No Partition Defined for Window operation! Moving all data to a single partition, this can cause serious performance degradation.\n",
      "22/08/25 17:08:09 WARN WindowExec: No Partition Defined for Window operation! Moving all data to a single partition, this can cause serious performance degradation.\n",
      "22/08/25 17:08:09 WARN WindowExec: No Partition Defined for Window operation! Moving all data to a single partition, this can cause serious performance degradation.\n",
      "22/08/25 17:08:10 WARN WindowExec: No Partition Defined for Window operation! Moving all data to a single partition, this can cause serious performance degradation.\n",
      "22/08/25 17:08:10 WARN WindowExec: No Partition Defined for Window operation! Moving all data to a single partition, this can cause serious performance degradation.\n",
      "22/08/25 17:08:10 WARN WindowExec: No Partition Defined for Window operation! Moving all data to a single partition, this can cause serious performance degradation.\n",
      "22/08/25 17:08:10 WARN WindowExec: No Partition Defined for Window operation! Moving all data to a single partition, this can cause serious performance degradation.\n",
      "22/08/25 17:08:10 WARN WindowExec: No Partition Defined for Window operation! Moving all data to a single partition, this can cause serious performance degradation.\n",
      "22/08/25 17:08:10 WARN WindowExec: No Partition Defined for Window operation! Moving all data to a single partition, this can cause serious performance degradation.\n",
      "+----------+---------+---+------+\n",
      "|first_name|last_name|top|newtop|\n",
      "+----------+---------+---+------+\n",
      "|     HELEN|   VOIGHT|  7|     1|\n",
      "|     SUSAN|    DAVIS|  6|     2|\n",
      "|     KEVIN|  GARLAND|  5|     3|\n",
      "|     RALPH|     CRUZ|  5|     3|\n",
      "|    WHOOPI|     HURT|  5|     3|\n",
      "|      MARY|    TANDY|  5|     3|\n",
      "+----------+---------+---+------+\n",
      "\n"
     ]
    }
   ],
   "source": [
    "# 5\n",
    "data = actor.join(film_actor, actor.actor_id == film_actor.actor_id, 'inner')\\\n",
    "    .join(film_category, film_actor.film_id == film_category.film_id, 'inner')\\\n",
    "    .join(category, film_category.category_id == category.category_id, 'inner')\\\n",
    "    .where(category.name == \"Children\")\n",
    "data = data.groupBy(\"first_name\", \"last_name\")\\\n",
    "    .agg(ps.count(\"name\")\\\n",
    "    .alias(\"top\")).orderBy(\"top\", ascending=False)\n",
    "w = Window.orderBy(data.top.desc())\n",
    "data = data.withColumn(\"newtop\", ps.dense_rank().over(w))\n",
    "data.where(data.newtop <= 3).show()"
   ]
  },
  {
   "cell_type": "code",
   "execution_count": 89,
   "id": "d9d17c1c",
   "metadata": {},
   "outputs": [
    {
     "name": "stdout",
     "output_type": "stream",
     "text": [
      "+------------------+------+--------+\n",
      "|              city|active|inactive|\n",
      "+------------------+------+--------+\n",
      "|         Pingxiang|     0|       1|\n",
      "|       Szkesfehrvr|     0|       1|\n",
      "|  Charlotte Amalie|     0|       1|\n",
      "|         Najafabad|     0|       1|\n",
      "|           Wroclaw|     0|       1|\n",
      "|            Ktahya|     0|       1|\n",
      "|           Bat Yam|     0|       1|\n",
      "|   Southend-on-Sea|     0|       1|\n",
      "|            Amroha|     0|       1|\n",
      "|            Kamyin|     0|       1|\n",
      "|          Xiangfan|     0|       1|\n",
      "|            Daxian|     0|       1|\n",
      "|          Uluberia|     0|       1|\n",
      "|     Coatzacoalcos|     0|       1|\n",
      "|        Kumbakonam|     0|       1|\n",
      "|A Corua (La Corua)|     1|       0|\n",
      "|          Fengshan|     1|       0|\n",
      "|          Chisinau|     1|       0|\n",
      "|           Udaipur|     1|       0|\n",
      "|              Linz|     1|       0|\n",
      "+------------------+------+--------+\n",
      "only showing top 20 rows\n",
      "\n"
     ]
    }
   ],
   "source": [
    "# 6\n",
    "result6 = address.join(city, address.city_id == city.city_id, \"inner\")\\\n",
    "    .join(customer, address.address_id == customer.address_id, \"inner\")\\\n",
    "    .groupBy(\"city\")\\\n",
    "    .agg(ps.sum(ps.when(customer.active == 1, 1).otherwise(0)).alias(\"active\"),\n",
    "         ps.sum(ps.when(customer.active != 1, 1).otherwise(0)).alias(\"inactive\"))\\\n",
    "    .orderBy(\"inactive\", ascending=False).show()"
   ]
  },
  {
   "cell_type": "code",
   "execution_count": 86,
   "id": "8a9df234",
   "metadata": {},
   "outputs": [
    {
     "name": "stdout",
     "output_type": "stream",
     "text": [
      "+------+----------+------------------+\n",
      "|  name|      city|             hours|\n",
      "+------+----------+------------------+\n",
      "|Action|Avellaneda|1109.8666666666666|\n",
      "+------+----------+------------------+\n",
      "only showing top 1 row\n",
      "\n"
     ]
    }
   ],
   "source": [
    "# 7\n",
    "result7 = category.join(film_category, category.category_id == film_category.category_id)\\\n",
    "    .join(inventory, film_category.film_id == inventory.film_id)\\\n",
    "    .join(rental, inventory.inventory_id == rental.inventory_id)\\\n",
    "    .join(customer, rental.customer_id == customer.customer_id)\\\n",
    "    .join(address, customer.address_id == address.address_id)\\\n",
    "    .join(city, address.city_id == city.city_id)\\\n",
    "    .where(city.city.like('A%') | city.city.like('%-%'))\n",
    "result7.groupBy(\"city\", \"name\")\\\n",
    "    .agg(ps.sum(((ps.unix_timestamp(result7.return_date) - ps.unix_timestamp(result7.rental_date))/3600))\n",
    "         .alias(\"hours\"))\\\n",
    "    .orderBy(\"hours\", ascending=False)\\\n",
    "    .select(\"name\", \"city\", \"hours\").show(1)"
   ]
  }
 ],
 "metadata": {
  "kernelspec": {
   "display_name": "Python 3 (ipykernel)",
   "language": "python",
   "name": "python3"
  },
  "language_info": {
   "codemirror_mode": {
    "name": "ipython",
    "version": 3
   },
   "file_extension": ".py",
   "mimetype": "text/x-python",
   "name": "python",
   "nbconvert_exporter": "python",
   "pygments_lexer": "ipython3",
   "version": "3.7.6"
  }
 },
 "nbformat": 4,
 "nbformat_minor": 5
}
